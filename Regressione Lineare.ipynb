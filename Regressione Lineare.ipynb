{
 "cells": [
  {
   "cell_type": "markdown",
   "id": "b8f3515e",
   "metadata": {},
   "source": [
    "# 1 Introduzione"
   ]
  },
  {
   "cell_type": "raw",
   "id": "ef246909",
   "metadata": {},
   "source": [
    "A livello teorico la regressione loneare cerca di trovare il minimo nella somma dei quadrati delle differenze tra i diversi punti del piano e una data retta.\n",
    "In poche parole, traccia la mmigliore retta possibile in mezzo ai dati per minimizzare l'errore.\n",
    "A differenza delle reti neurali, non soffre di overfitting."
   ]
  },
  {
   "cell_type": "raw",
   "id": "bd102390",
   "metadata": {},
   "source": [
    "A livello generale, il ML si occupa di due problemi:\n",
    "\n",
    "1 - Classificazione\n",
    "2 - Regressione\n",
    "\n",
    "Regressione lineare si occupa di regressione (lo dice il nome).\n",
    "Ci sono delle variabili dipendenti e indipendenti e in particolare se cerco di trovare una retta che rasenti l'ottimo, i parametri da trovare sono :\n",
    "\n",
    "Caso Monovariabile.\n",
    "Data una retta y = mx + b ---> devo trovare i parametri m e b, ovvero inclinazione e valore b.\n",
    "\n",
    "Caso Multivariabile.\n",
    "Ho sempre y = mx + b, ma stavolta :\n",
    "m = matrice di parametri\n",
    "x = matrice di variabili\n",
    "b = matrice di parametri"
   ]
  },
  {
   "cell_type": "raw",
   "id": "c80195a0",
   "metadata": {},
   "source": [
    "Posso ridurre le variabili in un dataset di solo quelle essenziali?\n",
    "Si, ci sono dei metodi che vedremo nel dettaglio."
   ]
  },
  {
   "cell_type": "markdown",
   "id": "34d68a3e",
   "metadata": {},
   "source": [
    "# 2 Somma di quadrati"
   ]
  },
  {
   "cell_type": "code",
   "execution_count": 1,
   "id": "0017f2f3",
   "metadata": {},
   "outputs": [],
   "source": [
    "# voglio calcolare la somma dei quadrati e quindi l'errore\n",
    "x_data = [1.0, 2.0, 3.0]\n",
    "y_vere = [1.2, 1.25, 2.0]"
   ]
  },
  {
   "cell_type": "code",
   "execution_count": 12,
   "id": "eb5a69ad",
   "metadata": {},
   "outputs": [],
   "source": [
    "# scelgo dei valori per i parametri m e b\n",
    "m = .39746363839\n",
    "b = .58373625495"
   ]
  },
  {
   "cell_type": "code",
   "execution_count": 13,
   "id": "52a7d9bc",
   "metadata": {},
   "outputs": [
    {
     "data": {
      "image/png": "[encoded data removed]",
      "text/plain": [
       "<Figure size 640x480 with 1 Axes>"
      ]
     },
     "metadata": {},
     "output_type": "display_data"
    }
   ],
   "source": [
    "# con mathplotlib guardo cosa viene fuori effettivamente\n",
    "import matplotlib.pyplot as plt\n",
    "import numpy as np\n",
    "import matplotlib as mpl\n",
    "\n",
    "plt.plot(x_data, y_vere, 'o')\n",
    "plt.plot(x_data, [m*x+b for x in x_data])\n",
    "plt.show()  # Plot some data on the axes."
   ]
  },
  {
   "cell_type": "code",
   "execution_count": 14,
   "id": "7c4be46d",
   "metadata": {},
   "outputs": [],
   "source": [
    "# calcolo gli y predetti con i valori di m e b \n",
    "y_predetti = [m*x+b for x in x_data]"
   ]
  },
  {
   "cell_type": "code",
   "execution_count": 15,
   "id": "e05b1631",
   "metadata": {},
   "outputs": [
    {
     "data": {
      "text/plain": [
       "[0.98119989334, 1.37866353173, 1.7761271701199999]"
      ]
     },
     "execution_count": 15,
     "metadata": {},
     "output_type": "execute_result"
    }
   ],
   "source": [
    "y_predetti"
   ]
  },
  {
   "cell_type": "code",
   "execution_count": 16,
   "id": "bc902a64",
   "metadata": {},
   "outputs": [
    {
     "data": {
      "text/plain": [
       "array([0.94119989, 1.29866353, 1.65612717])"
      ]
     },
     "execution_count": 16,
     "metadata": {},
     "output_type": "execute_result"
    }
   ],
   "source": [
    "y_vere"
   ]
  },
  {
   "cell_type": "code",
   "execution_count": 21,
   "id": "2720e54d",
   "metadata": {},
   "outputs": [
    {
     "data": {
      "text/plain": [
       "0.014399999999999972"
      ]
     },
     "execution_count": 21,
     "metadata": {},
     "output_type": "execute_result"
    }
   ],
   "source": [
    "# ora mi calcolo la somma dei quadrati e di questa prenderò quella con il valore minimo\n",
    "for y_pred, y_vera in zip(y_predetti, y_vere):\n",
    "    residui = y_vera - y_pred\n",
    "    somma_di_quadrati = residui ** 2\n",
    "somma_di_quadrati"
   ]
  },
  {
   "cell_type": "code",
   "execution_count": null,
   "id": "80e5ae45",
   "metadata": {},
   "outputs": [],
   "source": []
  }
 ],
 "metadata": {
  "kernelspec": {
   "display_name": "Python 3 (ipykernel)",
   "language": "python",
   "name": "python3"
  },
  "language_info": {
   "codemirror_mode": {
    "name": "ipython",
    "version": 3
   },
   "file_extension": ".py",
   "mimetype": "text/x-python",
   "name": "python",
   "nbconvert_exporter": "python",
   "pygments_lexer": "ipython3",
   "version": "3.11.5"
  }
 },
 "nbformat": 4,
 "nbformat_minor": 5
}
