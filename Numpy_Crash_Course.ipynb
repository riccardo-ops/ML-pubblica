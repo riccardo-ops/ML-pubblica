{
  "nbformat": 4,
  "nbformat_minor": 0,
  "metadata": {
    "colab": {
      "provenance": [],
      "collapsed_sections": [
        "AHtZvEx97p4J",
        "t9wBDSl29lVT",
        "Vb0TBdxN-U_L",
        "1C3o60Jb_jjF",
        "qv4g5osYAcFg"
      ],
      "toc_visible": true,
      "authorship_tag": "ABX9TyMg4FEemaJ8y0QvWEtawQhS",
      "include_colab_link": true
    },
    "kernelspec": {
      "name": "python3",
      "display_name": "Python 3"
    },
    "language_info": {
      "name": "python"
    }
  },
  "cells": [
    {
      "cell_type": "markdown",
      "metadata": {
        "id": "view-in-github",
        "colab_type": "text"
      },
      "source": [
        "<a href=\"https://colab.research.google.com/github/riccardo-ops/ML-pubblica/blob/main/Numpy_Crash_Course.ipynb\" target=\"_parent\"><img src=\"https://colab.research.google.com/assets/colab-badge.svg\" alt=\"Open In Colab\"/></a>"
      ]
    },
    {
      "cell_type": "markdown",
      "source": [
        "# *Scaricare numpy*"
      ],
      "metadata": {
        "id": "xvW7lqvA782q"
      }
    },
    {
      "cell_type": "code",
      "execution_count": null,
      "metadata": {
        "colab": {
          "base_uri": "https://localhost:8080/"
        },
        "id": "8NG6102i7VDE",
        "outputId": "d60a2177-0ae6-467b-d605-a9ccf1096c0c"
      },
      "outputs": [
        {
          "output_type": "stream",
          "name": "stdout",
          "text": [
            "Requirement already satisfied: numpy in /usr/local/lib/python3.10/dist-packages (1.23.5)\n"
          ]
        }
      ],
      "source": [
        "!pip install numpy"
      ]
    },
    {
      "cell_type": "code",
      "source": [
        "import numpy as np"
      ],
      "metadata": {
        "id": "WrokL1e08D0i"
      },
      "execution_count": null,
      "outputs": []
    },
    {
      "cell_type": "markdown",
      "source": [
        "# *1 - Creare gli array*"
      ],
      "metadata": {
        "id": "AHtZvEx97p4J"
      }
    },
    {
      "cell_type": "code",
      "source": [
        "data = np.random.rand(2, 2, 3)\n",
        "zeri = np.zeros((3, 3, 3))\n",
        "uni = np.ones((2, 3, 4))\n",
        "full = np.full((2, 2, 2), 5)\n",
        "print(data, zeri, uni, full, sep = '\\n\\n\\n')"
      ],
      "metadata": {
        "colab": {
          "base_uri": "https://localhost:8080/"
        },
        "id": "t6teBa8M8Nin",
        "outputId": "e5cb5c36-7009-4a02-c572-e99067ae6fad"
      },
      "execution_count": null,
      "outputs": [
        {
          "output_type": "stream",
          "name": "stdout",
          "text": [
            "[[[0.39859419 0.35713095 0.30616088]\n",
            "  [0.30079052 0.37607006 0.24611719]]\n",
            "\n",
            " [[0.54002286 0.07182861 0.4739568 ]\n",
            "  [0.56929249 0.87745037 0.8428023 ]]]\n",
            "\n",
            "\n",
            "[[[0. 0. 0.]\n",
            "  [0. 0. 0.]\n",
            "  [0. 0. 0.]]\n",
            "\n",
            " [[0. 0. 0.]\n",
            "  [0. 0. 0.]\n",
            "  [0. 0. 0.]]\n",
            "\n",
            " [[0. 0. 0.]\n",
            "  [0. 0. 0.]\n",
            "  [0. 0. 0.]]]\n",
            "\n",
            "\n",
            "[[[1. 1. 1. 1.]\n",
            "  [1. 1. 1. 1.]\n",
            "  [1. 1. 1. 1.]]\n",
            "\n",
            " [[1. 1. 1. 1.]\n",
            "  [1. 1. 1. 1.]\n",
            "  [1. 1. 1. 1.]]]\n",
            "\n",
            "\n",
            "[[[5 5]\n",
            "  [5 5]]\n",
            "\n",
            " [[5 5]\n",
            "  [5 5]]]\n"
          ]
        }
      ]
    },
    {
      "cell_type": "code",
      "source": [
        "# full ti fa creare un array e il primo termine tra parentesi (2, 2, 2) mi rappresenta la shape del tensore\n",
        "# il secondo termine, ovvero 5, lo riempe con questo numero"
      ],
      "metadata": {
        "id": "8W6aBTqb8Rkt"
      },
      "execution_count": null,
      "outputs": []
    },
    {
      "cell_type": "markdown",
      "source": [
        "##*Come creo un array da un oggetto esistente?*"
      ],
      "metadata": {
        "id": "LgDypKw58k_d"
      }
    },
    {
      "cell_type": "code",
      "source": [
        "lista = [[1, 2, 3, 4], [5, 6, 7, 8]]\n",
        "arr = np.array(lista)\n",
        "print(arr, type(arr), sep = '\\n\\n\\n')"
      ],
      "metadata": {
        "colab": {
          "base_uri": "https://localhost:8080/"
        },
        "id": "RL4hI2yW8WMz",
        "outputId": "d6e16323-5567-4ad0-e1ab-3b6011edc8d9"
      },
      "execution_count": null,
      "outputs": [
        {
          "output_type": "stream",
          "name": "stdout",
          "text": [
            "[[1 2 3 4]\n",
            " [5 6 7 8]]\n",
            "\n",
            "\n",
            "<class 'numpy.ndarray'>\n"
          ]
        }
      ]
    },
    {
      "cell_type": "markdown",
      "source": [
        "#*2 - Leggere gli array*"
      ],
      "metadata": {
        "id": "t9wBDSl29lVT"
      }
    },
    {
      "cell_type": "code",
      "source": [
        "# attributi importanti in numpy\n",
        "shape = data.shape\n",
        "size = data.size\n",
        "types = data.dtype\n",
        "print(shape, size, types, sep = '\\n\\n\\n')"
      ],
      "metadata": {
        "colab": {
          "base_uri": "https://localhost:8080/"
        },
        "id": "y89eu3W49fR5",
        "outputId": "67b034c5-f3e0-4fad-aab3-d0ce8d00e23c"
      },
      "execution_count": null,
      "outputs": [
        {
          "output_type": "stream",
          "name": "stdout",
          "text": [
            "(2, 2, 3)\n",
            "\n",
            "\n",
            "12\n",
            "\n",
            "\n",
            "float64\n"
          ]
        }
      ]
    },
    {
      "cell_type": "markdown",
      "source": [
        "##*Slicing*"
      ],
      "metadata": {
        "id": "_kstfVZr9yJR"
      }
    },
    {
      "cell_type": "code",
      "source": [
        "# come accedere ai diversi elementi di un array\n",
        "# faccio rivedere come appariva il nostro array di partenza\n",
        "data\n",
        "# noto che ci sono 2 blocchi da 2 righe e 3 colonne"
      ],
      "metadata": {
        "colab": {
          "base_uri": "https://localhost:8080/"
        },
        "id": "WJxZeMLM9vI5",
        "outputId": "a3ba7394-5a11-4c40-a4cc-2c423c9b2537"
      },
      "execution_count": null,
      "outputs": [
        {
          "output_type": "execute_result",
          "data": {
            "text/plain": [
              "array([[[0.39859419, 0.35713095, 0.30616088],\n",
              "        [0.30079052, 0.37607006, 0.24611719]],\n",
              "\n",
              "       [[0.54002286, 0.07182861, 0.4739568 ],\n",
              "        [0.56929249, 0.87745037, 0.8428023 ]]])"
            ]
          },
          "metadata": {},
          "execution_count": 10
        }
      ]
    },
    {
      "cell_type": "code",
      "source": [
        "blocco1 = data[0] # mi fa accedere al primo blocco\n",
        "blocco_riga1 = data[0][0] # accedo alla prima riga del primo blocco\n",
        "elemento_singolo = data[0][0][2] # accedo al terzo elemento del primo blocco e della prima riga\n",
        "\n",
        "fetta = data[:1] # prendo tutti i blocchi fino all'ultimo selezionato escluso, ovvero prendo solo il primo\n",
        "fetta_riga = data[0][0][:2] # prendo 000 e 001\n",
        "\n",
        "\n",
        "print(blocco1, blocco_riga1, elemento_singolo, fetta, fetta_riga, sep = '\\n\\n')"
      ],
      "metadata": {
        "colab": {
          "base_uri": "https://localhost:8080/"
        },
        "id": "MigNMXrt-DoY",
        "outputId": "a2c02881-84e5-44af-f750-2144213a0122"
      },
      "execution_count": null,
      "outputs": [
        {
          "output_type": "stream",
          "name": "stdout",
          "text": [
            "[[0.39859419 0.35713095 0.30616088]\n",
            " [0.30079052 0.37607006 0.24611719]]\n",
            "\n",
            "[0.39859419 0.35713095 0.30616088]\n",
            "\n",
            "0.3061608756729184\n",
            "\n",
            "[[[0.39859419 0.35713095 0.30616088]\n",
            "  [0.30079052 0.37607006 0.24611719]]]\n",
            "\n",
            "[0.39859419 0.35713095]\n"
          ]
        }
      ]
    },
    {
      "cell_type": "markdown",
      "source": [
        "#*3 - Operazioni di base*"
      ],
      "metadata": {
        "id": "Vb0TBdxN-U_L"
      }
    },
    {
      "cell_type": "code",
      "source": [
        "# inizio creando due liste random\n",
        "lista1 = np.random.rand(10)\n",
        "lista2 = np.random.rand(10)\n",
        "\n",
        "print(lista1, lista2, sep = '\\n\\n')"
      ],
      "metadata": {
        "colab": {
          "base_uri": "https://localhost:8080/"
        },
        "id": "OE5Qq7RZ-SNl",
        "outputId": "9e8e7e1c-bc6a-4220-994a-df1b178cfad5"
      },
      "execution_count": null,
      "outputs": [
        {
          "output_type": "stream",
          "name": "stdout",
          "text": [
            "[0.13372319 0.37710326 0.02015408 0.26455461 0.35149773 0.67808226\n",
            " 0.15832413 0.20237308 0.21446015 0.14943929]\n",
            "\n",
            "[0.98102213 0.35120283 0.74419188 0.21884138 0.16067821 0.82829247\n",
            " 0.96605613 0.02764515 0.33722522 0.98633014]\n"
          ]
        }
      ]
    },
    {
      "cell_type": "markdown",
      "source": [
        "##*Matematica di base*"
      ],
      "metadata": {
        "id": "JIaP717u-jKY"
      }
    },
    {
      "cell_type": "code",
      "source": [
        "somma = np.add(lista1, lista2) # somma\n",
        "sottrazione = np.subtract(lista1, lista2) # sottrazione\n",
        "prodotto = np.multiply(lista1, lista2) # prodotto\n",
        "divisione = np.divide(lista1, lista2) # divisione\n",
        "prod_punto_a_punto = np.dot(lista1, lista2) # fa il prodotto punto a punto, lo spiego nella cella dedicata\n",
        "\n",
        "\n",
        "\n",
        "print(somma, sottrazione, prodotto, divisione, prod_punto_a_punto, sep = '\\n\\n\\n')"
      ],
      "metadata": {
        "colab": {
          "base_uri": "https://localhost:8080/"
        },
        "id": "KwwDUmoi-fGQ",
        "outputId": "31bc95db-32b4-48a1-898b-4ca66cdf68b0"
      },
      "execution_count": null,
      "outputs": [
        {
          "output_type": "stream",
          "name": "stdout",
          "text": [
            "[1.11474531 0.72830609 0.76434596 0.48339599 0.51217594 1.50637473\n",
            " 1.12438026 0.23001823 0.55168537 1.13576943]\n",
            "\n",
            "\n",
            "[-0.84729894  0.02590043 -0.7240378   0.04571323  0.19081952 -0.15021022\n",
            " -0.80773201  0.17472794 -0.12276507 -0.83689085]\n",
            "\n",
            "\n",
            "[0.1311854  0.13243973 0.0149985  0.0578955  0.05647803 0.56165043\n",
            " 0.15294999 0.00559463 0.07232137 0.14739648]\n",
            "\n",
            "\n",
            "[0.13631006 1.07374777 0.02708183 1.20888749 2.187588   0.81865075\n",
            " 0.16388709 7.32038363 0.63595524 0.15151042]\n",
            "\n",
            "\n",
            "1.3329100690996065\n"
          ]
        }
      ]
    },
    {
      "cell_type": "code",
      "source": [
        "# esempio del prodotto punto a punto, spero sia abbastanza intuitivo\n",
        "# in pratica viene fatta la somma dei prodotti tra ogni elemento degli array\n",
        "a = np.arange(5)\n",
        "b = np.arange(5, 10)\n",
        "print(a, b, sep = '\\n\\n')"
      ],
      "metadata": {
        "colab": {
          "base_uri": "https://localhost:8080/"
        },
        "id": "5zWwT_Ua-vdh",
        "outputId": "d5840251-e710-416e-effc-3e583f67d7f6"
      },
      "execution_count": null,
      "outputs": [
        {
          "output_type": "stream",
          "name": "stdout",
          "text": [
            "[0 1 2 3 4]\n",
            "\n",
            "[5 6 7 8 9]\n"
          ]
        }
      ]
    },
    {
      "cell_type": "code",
      "source": [
        "prod = np.dot(a, b)\n",
        "prod"
      ],
      "metadata": {
        "colab": {
          "base_uri": "https://localhost:8080/"
        },
        "id": "pgyNayLz_BpO",
        "outputId": "fabcf0e1-405f-46de-900a-487b4f557d4a"
      },
      "execution_count": null,
      "outputs": [
        {
          "output_type": "execute_result",
          "data": {
            "text/plain": [
              "80"
            ]
          },
          "metadata": {},
          "execution_count": 15
        }
      ]
    },
    {
      "cell_type": "code",
      "source": [
        "totale = 1*6 + 2*7 + 3*8 + 4*9\n",
        "totale"
      ],
      "metadata": {
        "colab": {
          "base_uri": "https://localhost:8080/"
        },
        "id": "SfkH6YB0_CYp",
        "outputId": "3ab3fb34-197a-4ae6-d8d5-385b09336c7a"
      },
      "execution_count": null,
      "outputs": [
        {
          "output_type": "execute_result",
          "data": {
            "text/plain": [
              "80"
            ]
          },
          "metadata": {},
          "execution_count": 16
        }
      ]
    },
    {
      "cell_type": "markdown",
      "source": [
        "##*Statistica di base*"
      ],
      "metadata": {
        "id": "rtjm9fCc_Ihi"
      }
    },
    {
      "cell_type": "code",
      "source": [
        "# prova a ricordarle nella sigla SAPLEMM\n",
        "s = np.sqrt(36) # radice quadrata\n",
        "a = np.abs(lista1) # valore assoluto\n",
        "p = np.power(2, 7) # eleva la base 2 all'esponente 7\n",
        "l = np.log(64)\n",
        "e = np.exp([2, 3])\n",
        "m1 = np.min(lista1)\n",
        "m2 = np.max(lista1)\n",
        "\n",
        "\n",
        "print(s, a, p, l, e, m1, m2, sep = '\\n\\n')"
      ],
      "metadata": {
        "colab": {
          "base_uri": "https://localhost:8080/"
        },
        "id": "E0gjLm_I_F_X",
        "outputId": "bc324520-50d6-47c4-cc2a-7cd35283265a"
      },
      "execution_count": null,
      "outputs": [
        {
          "output_type": "stream",
          "name": "stdout",
          "text": [
            "6.0\n",
            "\n",
            "[0.13372319 0.37710326 0.02015408 0.26455461 0.35149773 0.67808226\n",
            " 0.15832413 0.20237308 0.21446015 0.14943929]\n",
            "\n",
            "128\n",
            "\n",
            "4.1588830833596715\n",
            "\n",
            "[ 7.3890561  20.08553692]\n",
            "\n",
            "0.02015407884373277\n",
            "\n",
            "0.6780822570378017\n"
          ]
        }
      ]
    },
    {
      "cell_type": "markdown",
      "source": [
        "#*4 - Modificare gli array*"
      ],
      "metadata": {
        "id": "1C3o60Jb_jjF"
      }
    },
    {
      "cell_type": "markdown",
      "source": [
        "##*Accedere e modificare gli array*"
      ],
      "metadata": {
        "id": "vr4o37yM_ojd"
      }
    },
    {
      "cell_type": "code",
      "source": [
        "data = np.random.rand(2, 3, 4)\n",
        "data"
      ],
      "metadata": {
        "colab": {
          "base_uri": "https://localhost:8080/"
        },
        "id": "Xp5_7sqL_RXi",
        "outputId": "52cdac9c-4d76-4907-f886-0c52da2e5876"
      },
      "execution_count": null,
      "outputs": [
        {
          "output_type": "execute_result",
          "data": {
            "text/plain": [
              "array([[[0.14624601, 0.01517962, 0.40154454, 0.97750887],\n",
              "        [0.39109066, 0.83679787, 0.15509821, 0.50379522],\n",
              "        [0.7497956 , 0.34703977, 0.2474782 , 0.92647252]],\n",
              "\n",
              "       [[0.99790509, 0.43665318, 0.5134262 , 0.98088378],\n",
              "        [0.17009858, 0.53353748, 0.01070232, 0.13267132],\n",
              "        [0.05691559, 0.92870446, 0.79211749, 0.18236255]]])"
            ]
          },
          "metadata": {},
          "execution_count": 18
        }
      ]
    },
    {
      "cell_type": "code",
      "source": [
        "# accedo a qualsiasi elemento, fetta o blocco del mio data\n",
        "# per non fare errori grossolani, lavoro su una copia del mio data di partenza\n",
        "copia = np.copy(data)"
      ],
      "metadata": {
        "id": "iKzhyFfs_zl_"
      },
      "execution_count": null,
      "outputs": []
    },
    {
      "cell_type": "code",
      "source": [
        "copia[0, 0, 1] = 1 # accedo a 001\n",
        "copia"
      ],
      "metadata": {
        "colab": {
          "base_uri": "https://localhost:8080/"
        },
        "id": "ecrkMWHH_2Dc",
        "outputId": "72d9408d-2a10-4473-baf2-daffe4c26135"
      },
      "execution_count": null,
      "outputs": [
        {
          "output_type": "execute_result",
          "data": {
            "text/plain": [
              "array([[[0.14624601, 1.        , 0.40154454, 0.97750887],\n",
              "        [0.39109066, 0.83679787, 0.15509821, 0.50379522],\n",
              "        [0.7497956 , 0.34703977, 0.2474782 , 0.92647252]],\n",
              "\n",
              "       [[0.99790509, 0.43665318, 0.5134262 , 0.98088378],\n",
              "        [0.17009858, 0.53353748, 0.01070232, 0.13267132],\n",
              "        [0.05691559, 0.92870446, 0.79211749, 0.18236255]]])"
            ]
          },
          "metadata": {},
          "execution_count": 20
        }
      ]
    },
    {
      "cell_type": "code",
      "source": [
        "copia[0, 0] = 1 # prendo tutta la prima riga del primo blocco\n",
        "copia"
      ],
      "metadata": {
        "colab": {
          "base_uri": "https://localhost:8080/"
        },
        "id": "lZJhw4e1_4H3",
        "outputId": "7c29ae23-2a60-432a-d643-da7e21213bff"
      },
      "execution_count": null,
      "outputs": [
        {
          "output_type": "execute_result",
          "data": {
            "text/plain": [
              "array([[[1.        , 1.        , 1.        , 1.        ],\n",
              "        [0.39109066, 0.83679787, 0.15509821, 0.50379522],\n",
              "        [0.7497956 , 0.34703977, 0.2474782 , 0.92647252]],\n",
              "\n",
              "       [[0.99790509, 0.43665318, 0.5134262 , 0.98088378],\n",
              "        [0.17009858, 0.53353748, 0.01070232, 0.13267132],\n",
              "        [0.05691559, 0.92870446, 0.79211749, 0.18236255]]])"
            ]
          },
          "metadata": {},
          "execution_count": 21
        }
      ]
    },
    {
      "cell_type": "code",
      "source": [
        "copia[:, 1] = 11 # prendo tutti i blocchi e nella seconda riga volgio che ci sia 11\n",
        "copia"
      ],
      "metadata": {
        "colab": {
          "base_uri": "https://localhost:8080/"
        },
        "id": "Nb9tnAEj_6gw",
        "outputId": "e12e93ed-004d-49bc-c1e6-88bb1b1776e5"
      },
      "execution_count": null,
      "outputs": [
        {
          "output_type": "execute_result",
          "data": {
            "text/plain": [
              "array([[[ 1.        ,  1.        ,  1.        ,  1.        ],\n",
              "        [11.        , 11.        , 11.        , 11.        ],\n",
              "        [ 0.7497956 ,  0.34703977,  0.2474782 ,  0.92647252]],\n",
              "\n",
              "       [[ 0.99790509,  0.43665318,  0.5134262 ,  0.98088378],\n",
              "        [11.        , 11.        , 11.        , 11.        ],\n",
              "        [ 0.05691559,  0.92870446,  0.79211749,  0.18236255]]])"
            ]
          },
          "metadata": {},
          "execution_count": 22
        }
      ]
    },
    {
      "cell_type": "markdown",
      "source": [
        "##*Ordinare l'array*"
      ],
      "metadata": {
        "id": "tsaKrqBEAAEX"
      }
    },
    {
      "cell_type": "code",
      "source": [
        "copia.sort()\n",
        "copia"
      ],
      "metadata": {
        "colab": {
          "base_uri": "https://localhost:8080/"
        },
        "id": "yOgIKr9G_8yr",
        "outputId": "8fe3fe83-83a4-43f9-f28d-10cd04c30ce5"
      },
      "execution_count": null,
      "outputs": [
        {
          "output_type": "execute_result",
          "data": {
            "text/plain": [
              "array([[[ 1.        ,  1.        ,  1.        ,  1.        ],\n",
              "        [11.        , 11.        , 11.        , 11.        ],\n",
              "        [ 0.2474782 ,  0.34703977,  0.7497956 ,  0.92647252]],\n",
              "\n",
              "       [[ 0.43665318,  0.5134262 ,  0.98088378,  0.99790509],\n",
              "        [11.        , 11.        , 11.        , 11.        ],\n",
              "        [ 0.05691559,  0.18236255,  0.79211749,  0.92870446]]])"
            ]
          },
          "metadata": {},
          "execution_count": 23
        }
      ]
    },
    {
      "cell_type": "markdown",
      "source": [
        "##*Modificarne la forma*"
      ],
      "metadata": {
        "id": "UcezONDOAIjC"
      }
    },
    {
      "cell_type": "code",
      "source": [
        "data.shape"
      ],
      "metadata": {
        "colab": {
          "base_uri": "https://localhost:8080/"
        },
        "id": "h1-9zAloAFJL",
        "outputId": "512bcfb4-d0a3-49e2-d529-aa662c6380e6"
      },
      "execution_count": null,
      "outputs": [
        {
          "output_type": "execute_result",
          "data": {
            "text/plain": [
              "(2, 3, 4)"
            ]
          },
          "metadata": {},
          "execution_count": 24
        }
      ]
    },
    {
      "cell_type": "code",
      "source": [
        "data = data.reshape(2, 2, -1) # il -1 mi dice che in realtà lascio a numpy calcolare come mettere la dimensione mancante\n",
        "data.shape # in questo caso sarà 6 perchè mantengo i due blocchi e ho 3*4 prima, dovrò avere 2*6 dopo"
      ],
      "metadata": {
        "colab": {
          "base_uri": "https://localhost:8080/"
        },
        "id": "-1j0FL2TAPDq",
        "outputId": "64b9ca53-5f0d-4e1f-f1fc-fc42ddee066b"
      },
      "execution_count": null,
      "outputs": [
        {
          "output_type": "execute_result",
          "data": {
            "text/plain": [
              "(2, 2, 6)"
            ]
          },
          "metadata": {},
          "execution_count": 25
        }
      ]
    },
    {
      "cell_type": "markdown",
      "source": [
        "##*Aggiungere elementi al mio array*"
      ],
      "metadata": {
        "id": "SatwWOYKATgW"
      }
    },
    {
      "cell_type": "code",
      "source": [
        "zeri = np.zeros(8)\n",
        "print(zeri)\n",
        "zeri = np.append(zeri, [3, 4])\n",
        "print(zeri)"
      ],
      "metadata": {
        "colab": {
          "base_uri": "https://localhost:8080/"
        },
        "id": "SQcosvenARZk",
        "outputId": "45aa00e6-a23f-4143-e329-8af310770d7e"
      },
      "execution_count": null,
      "outputs": [
        {
          "output_type": "stream",
          "name": "stdout",
          "text": [
            "[0. 0. 0. 0. 0. 0. 0. 0.]\n",
            "[0. 0. 0. 0. 0. 0. 0. 0. 3. 4.]\n"
          ]
        }
      ]
    },
    {
      "cell_type": "code",
      "source": [
        "zeri = np.insert(zeri, 3, 1)\n",
        "# con insert aggiungo:\n",
        "# dove? in zeri\n",
        "# in quale posizione? 3\n",
        "# che cosa? 1\n",
        "print(zeri)"
      ],
      "metadata": {
        "colab": {
          "base_uri": "https://localhost:8080/"
        },
        "id": "fWRTe2NIAYcd",
        "outputId": "6988d489-7a6b-4992-a94f-b15daf3ee73c"
      },
      "execution_count": null,
      "outputs": [
        {
          "output_type": "stream",
          "name": "stdout",
          "text": [
            "[0. 0. 0. 1. 0. 0. 0. 0. 0. 3. 4.]\n"
          ]
        }
      ]
    },
    {
      "cell_type": "markdown",
      "source": [
        "#*5 - Cancellare gli array*"
      ],
      "metadata": {
        "id": "qv4g5osYAcFg"
      }
    },
    {
      "cell_type": "markdown",
      "source": [
        "##*Cancellare*"
      ],
      "metadata": {
        "id": "4afiaOFBAi1A"
      }
    },
    {
      "cell_type": "code",
      "source": [
        "# immagino di voler cancellare il primo degli array\n",
        "copia1 = np.copy(data)\n",
        "copia1.shape\n",
        "# cancello la prima riga di ogni blocco\n",
        "np.delete(copia1, [0, 0])"
      ],
      "metadata": {
        "colab": {
          "base_uri": "https://localhost:8080/"
        },
        "id": "WreJTzfsAaVm",
        "outputId": "1a40568f-622b-4949-89fa-aa7fb3ceaae1"
      },
      "execution_count": null,
      "outputs": [
        {
          "output_type": "execute_result",
          "data": {
            "text/plain": [
              "array([0.01517962, 0.40154454, 0.97750887, 0.39109066, 0.83679787,\n",
              "       0.15509821, 0.50379522, 0.7497956 , 0.34703977, 0.2474782 ,\n",
              "       0.92647252, 0.99790509, 0.43665318, 0.5134262 , 0.98088378,\n",
              "       0.17009858, 0.53353748, 0.01070232, 0.13267132, 0.05691559,\n",
              "       0.92870446, 0.79211749, 0.18236255])"
            ]
          },
          "metadata": {},
          "execution_count": 28
        }
      ]
    },
    {
      "cell_type": "markdown",
      "source": [
        "##*Salvare*"
      ],
      "metadata": {
        "id": "YKdjr2WsAv-f"
      }
    },
    {
      "cell_type": "code",
      "source": [
        "np.save('array di prova', data)"
      ],
      "metadata": {
        "id": "ea5T99BAAtev"
      },
      "execution_count": null,
      "outputs": []
    },
    {
      "cell_type": "code",
      "source": [
        "np.load('array di prova.npy')"
      ],
      "metadata": {
        "colab": {
          "base_uri": "https://localhost:8080/"
        },
        "id": "WpFhI2rIA272",
        "outputId": "4fe97191-894a-46f2-e53c-51afdd8ec630"
      },
      "execution_count": null,
      "outputs": [
        {
          "output_type": "execute_result",
          "data": {
            "text/plain": [
              "array([[[0.14624601, 0.01517962, 0.40154454, 0.97750887, 0.39109066,\n",
              "         0.83679787],\n",
              "        [0.15509821, 0.50379522, 0.7497956 , 0.34703977, 0.2474782 ,\n",
              "         0.92647252]],\n",
              "\n",
              "       [[0.99790509, 0.43665318, 0.5134262 , 0.98088378, 0.17009858,\n",
              "         0.53353748],\n",
              "        [0.01070232, 0.13267132, 0.05691559, 0.92870446, 0.79211749,\n",
              "         0.18236255]]])"
            ]
          },
          "metadata": {},
          "execution_count": 30
        }
      ]
    }
  ]
}