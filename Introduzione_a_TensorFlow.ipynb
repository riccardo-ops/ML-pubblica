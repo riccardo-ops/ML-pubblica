{
  "nbformat": 4,
  "nbformat_minor": 0,
  "metadata": {
    "colab": {
      "provenance": [],
      "toc_visible": true,
      "authorship_tag": "ABX9TyMZs3qQ8Lt1RWnCZ/+ak7uY",
      "include_colab_link": true
    },
    "kernelspec": {
      "name": "python3",
      "display_name": "Python 3"
    },
    "language_info": {
      "name": "python"
    }
  },
  "cells": [
    {
      "cell_type": "markdown",
      "metadata": {
        "id": "view-in-github",
        "colab_type": "text"
      },
      "source": [
        "<a href=\"https://colab.research.google.com/github/riccardo-ops/ML-pubblica/blob/main/Introduzione_a_TensorFlow.ipynb\" target=\"_parent\"><img src=\"https://colab.research.google.com/assets/colab-badge.svg\" alt=\"Open In Colab\"/></a>"
      ]
    },
    {
      "cell_type": "code",
      "execution_count": 2,
      "metadata": {
        "colab": {
          "base_uri": "https://localhost:8080/"
        },
        "id": "Xo8mLxZqYI4x",
        "outputId": "bed5fe17-8dcb-4f8d-fc8e-b8135f43ff0b"
      },
      "outputs": [
        {
          "output_type": "execute_result",
          "data": {
            "text/plain": [
              "<module 'tensorflow._api.v2.version' from '/usr/local/lib/python3.10/dist-packages/tensorflow/_api/v2/version/__init__.py'>"
            ]
          },
          "metadata": {},
          "execution_count": 2
        }
      ],
      "source": [
        "import tensorflow as tf\n",
        "tf.version"
      ]
    },
    {
      "cell_type": "markdown",
      "source": [
        "# Tensori"
      ],
      "metadata": {
        "id": "Ahj_ttufYwUv"
      }
    },
    {
      "cell_type": "markdown",
      "source": [
        "Sono dei vettori o matrici generalizzati, con un preciso tipo di dati e una certa dimensione."
      ],
      "metadata": {
        "id": "e4488_XcY0-W"
      }
    },
    {
      "cell_type": "code",
      "source": [
        "stringa = tf.Variable('Ciao Riccardo', tf.string)\n",
        "intero = tf.Variable(32, tf.int16)\n",
        "floating = tf.Variable(34.567, tf.float32)"
      ],
      "metadata": {
        "id": "tdpXDQYjYPkW"
      },
      "execution_count": 3,
      "outputs": []
    },
    {
      "cell_type": "markdown",
      "source": [
        "Rango: numero di dimensioni di un tensore\n",
        "\n"
      ],
      "metadata": {
        "id": "VH7cqPj8ZvdO"
      }
    },
    {
      "cell_type": "code",
      "source": [
        "a = tf.Variable([[1, 2, 3], [4, 5, 6]], tf.int16)\n",
        "b = tf.Variable([[7, 8, 9], [10, 11, 12]], tf.int16)"
      ],
      "metadata": {
        "id": "v2VZrdbbZsMi"
      },
      "execution_count": 4,
      "outputs": []
    },
    {
      "cell_type": "code",
      "source": [
        "a"
      ],
      "metadata": {
        "colab": {
          "base_uri": "https://localhost:8080/"
        },
        "id": "OR3O0-OWabKe",
        "outputId": "a3ebc984-8974-4b6c-c339-668990f9a403"
      },
      "execution_count": 10,
      "outputs": [
        {
          "output_type": "execute_result",
          "data": {
            "text/plain": [
              "<tf.Variable 'Variable:0' shape=(2, 3) dtype=int32, numpy=\n",
              "array([[1, 2, 3],\n",
              "       [4, 5, 6]], dtype=int32)>"
            ]
          },
          "metadata": {},
          "execution_count": 10
        }
      ]
    },
    {
      "cell_type": "code",
      "source": [
        "type(b)"
      ],
      "metadata": {
        "colab": {
          "base_uri": "https://localhost:8080/"
        },
        "id": "UlMqy6m4ab2i",
        "outputId": "3456d536-5c01-490f-8c7e-8b59468e9601"
      },
      "execution_count": 15,
      "outputs": [
        {
          "output_type": "execute_result",
          "data": {
            "text/plain": [
              "tensorflow.python.ops.resource_variable_ops.ResourceVariable"
            ]
          },
          "metadata": {},
          "execution_count": 15
        }
      ]
    },
    {
      "cell_type": "code",
      "source": [
        "print(tf.rank(a))"
      ],
      "metadata": {
        "colab": {
          "base_uri": "https://localhost:8080/"
        },
        "id": "B-3VB-DAaguY",
        "outputId": "c9826455-6d16-4071-f15d-c5845cdb8f74"
      },
      "execution_count": 9,
      "outputs": [
        {
          "output_type": "stream",
          "name": "stdout",
          "text": [
            "tf.Tensor(2, shape=(), dtype=int32)\n"
          ]
        }
      ]
    },
    {
      "cell_type": "code",
      "source": [
        "tensore = np.full([3, 4, 7], 5)\n",
        "tensore = tf.Variable(tensore)\n",
        "tensore"
      ],
      "metadata": {
        "colab": {
          "base_uri": "https://localhost:8080/"
        },
        "id": "94cIGwnkeFVC",
        "outputId": "ae27660a-5835-4b29-f2d1-0c2c51bfa916"
      },
      "execution_count": 30,
      "outputs": [
        {
          "output_type": "execute_result",
          "data": {
            "text/plain": [
              "<tf.Variable 'Variable:0' shape=(3, 4, 7) dtype=int64, numpy=\n",
              "array([[[5, 5, 5, 5, 5, 5, 5],\n",
              "        [5, 5, 5, 5, 5, 5, 5],\n",
              "        [5, 5, 5, 5, 5, 5, 5],\n",
              "        [5, 5, 5, 5, 5, 5, 5]],\n",
              "\n",
              "       [[5, 5, 5, 5, 5, 5, 5],\n",
              "        [5, 5, 5, 5, 5, 5, 5],\n",
              "        [5, 5, 5, 5, 5, 5, 5],\n",
              "        [5, 5, 5, 5, 5, 5, 5]],\n",
              "\n",
              "       [[5, 5, 5, 5, 5, 5, 5],\n",
              "        [5, 5, 5, 5, 5, 5, 5],\n",
              "        [5, 5, 5, 5, 5, 5, 5],\n",
              "        [5, 5, 5, 5, 5, 5, 5]]])>"
            ]
          },
          "metadata": {},
          "execution_count": 30
        }
      ]
    },
    {
      "cell_type": "markdown",
      "source": [
        "## Shape"
      ],
      "metadata": {
        "id": "ZIiRkJxtbDx2"
      }
    },
    {
      "cell_type": "code",
      "source": [
        "a.shape"
      ],
      "metadata": {
        "colab": {
          "base_uri": "https://localhost:8080/"
        },
        "id": "mmI-uWROalwo",
        "outputId": "daabef94-53cf-445e-d684-9191255efb6c"
      },
      "execution_count": 12,
      "outputs": [
        {
          "output_type": "execute_result",
          "data": {
            "text/plain": [
              "TensorShape([2, 3])"
            ]
          },
          "metadata": {},
          "execution_count": 12
        }
      ]
    },
    {
      "cell_type": "code",
      "source": [
        "import numpy as np\n",
        "c = np.random.randn(16).reshape(2, 4, 2)\n",
        "c = tf.Variable(c, tf.int16)\n",
        "type(c) # in questo modo converto un array creato con numpy in un tensore letto fa tensorflow in modo ottimale"
      ],
      "metadata": {
        "colab": {
          "base_uri": "https://localhost:8080/"
        },
        "id": "pvIRkC1-bHqg",
        "outputId": "3107eda4-ad14-4d7f-845a-27839c1f8b18"
      },
      "execution_count": 16,
      "outputs": [
        {
          "output_type": "execute_result",
          "data": {
            "text/plain": [
              "tensorflow.python.ops.resource_variable_ops.ResourceVariable"
            ]
          },
          "metadata": {},
          "execution_count": 16
        }
      ]
    },
    {
      "cell_type": "code",
      "source": [
        "c.shape"
      ],
      "metadata": {
        "colab": {
          "base_uri": "https://localhost:8080/"
        },
        "id": "qJm7tQ1qbpWJ",
        "outputId": "8d184c58-9064-4242-a612-08845d6f1b78"
      },
      "execution_count": 17,
      "outputs": [
        {
          "output_type": "execute_result",
          "data": {
            "text/plain": [
              "TensorShape([2, 4, 2])"
            ]
          },
          "metadata": {},
          "execution_count": 17
        }
      ]
    },
    {
      "cell_type": "code",
      "source": [
        "print(c)"
      ],
      "metadata": {
        "colab": {
          "base_uri": "https://localhost:8080/"
        },
        "id": "xbQsp3Pnb9NX",
        "outputId": "090729c8-92f1-466c-d7fa-44039a4650a7"
      },
      "execution_count": 18,
      "outputs": [
        {
          "output_type": "stream",
          "name": "stdout",
          "text": [
            "<tf.Variable 'Variable:0' shape=(2, 4, 2) dtype=float64, numpy=\n",
            "array([[[-1.12024564, -0.44556912],\n",
            "        [ 0.49215417,  0.93308808],\n",
            "        [ 0.13622484, -1.0795828 ],\n",
            "        [ 0.72577585,  2.2125145 ]],\n",
            "\n",
            "       [[ 1.18302968,  0.79476133],\n",
            "        [-2.20035274, -0.54373357],\n",
            "        [-1.24303672,  0.50570714],\n",
            "        [-2.16728404, -1.18121594]]])>\n"
          ]
        }
      ]
    },
    {
      "cell_type": "markdown",
      "source": [
        "# Reshape"
      ],
      "metadata": {
        "id": "T8QnW8c6cCnl"
      }
    },
    {
      "cell_type": "code",
      "source": [
        "c = tf.reshape(c, [4, 2, 2])\n",
        "c1 = tf.reshape(c, [1, 2, -1])\n",
        "print(c, c1, sep = '\\n\\n')"
      ],
      "metadata": {
        "colab": {
          "base_uri": "https://localhost:8080/"
        },
        "id": "vr8dGPhub_hi",
        "outputId": "a8bbde50-9a5d-402e-fb3a-a220ca0a0bec"
      },
      "execution_count": 20,
      "outputs": [
        {
          "output_type": "stream",
          "name": "stdout",
          "text": [
            "tf.Tensor(\n",
            "[[[-1.12024564 -0.44556912]\n",
            "  [ 0.49215417  0.93308808]]\n",
            "\n",
            " [[ 0.13622484 -1.0795828 ]\n",
            "  [ 0.72577585  2.2125145 ]]\n",
            "\n",
            " [[ 1.18302968  0.79476133]\n",
            "  [-2.20035274 -0.54373357]]\n",
            "\n",
            " [[-1.24303672  0.50570714]\n",
            "  [-2.16728404 -1.18121594]]], shape=(4, 2, 2), dtype=float64)\n",
            "\n",
            "tf.Tensor(\n",
            "[[[-1.12024564 -0.44556912  0.49215417  0.93308808  0.13622484\n",
            "   -1.0795828   0.72577585  2.2125145 ]\n",
            "  [ 1.18302968  0.79476133 -2.20035274 -0.54373357 -1.24303672\n",
            "    0.50570714 -2.16728404 -1.18121594]]], shape=(1, 2, 8), dtype=float64)\n"
          ]
        }
      ]
    },
    {
      "cell_type": "code",
      "source": [
        "# immagino di avere un enorme tensore con tante dimensioni\n",
        "# l'unico modo per appiattirlo è moltiplicare tutte le sue dimensioni\n",
        "tensore.shape"
      ],
      "metadata": {
        "colab": {
          "base_uri": "https://localhost:8080/"
        },
        "id": "Imr0p6A2eiOn",
        "outputId": "46e61863-7fa7-4b09-c974-898393ba33ec"
      },
      "execution_count": 31,
      "outputs": [
        {
          "output_type": "execute_result",
          "data": {
            "text/plain": [
              "TensorShape([3, 4, 7])"
            ]
          },
          "metadata": {},
          "execution_count": 31
        }
      ]
    },
    {
      "cell_type": "code",
      "source": [
        "# questo ha dimensioni 3, 4, e 7.\n",
        "\n",
        "# lo scrivo in modo macchinoso\n",
        "tensore = tf.reshape(tensore, 3*4*7)\n",
        "print(tensore, end = '\\n\\n')\n",
        "\n",
        "# in modo elegante\n",
        "shape = len(tensore)\n",
        "tens = tf.reshape(tensore, shape)\n",
        "print(tens)"
      ],
      "metadata": {
        "colab": {
          "base_uri": "https://localhost:8080/"
        },
        "id": "TgVsRinWetdV",
        "outputId": "9f51b2ed-05c5-4b0d-cc58-8fa8d6904c53"
      },
      "execution_count": 32,
      "outputs": [
        {
          "output_type": "stream",
          "name": "stdout",
          "text": [
            "tf.Tensor(\n",
            "[5 5 5 5 5 5 5 5 5 5 5 5 5 5 5 5 5 5 5 5 5 5 5 5 5 5 5 5 5 5 5 5 5 5 5 5 5\n",
            " 5 5 5 5 5 5 5 5 5 5 5 5 5 5 5 5 5 5 5 5 5 5 5 5 5 5 5 5 5 5 5 5 5 5 5 5 5\n",
            " 5 5 5 5 5 5 5 5 5 5], shape=(84,), dtype=int64)\n",
            "\n",
            "tf.Tensor(\n",
            "[5 5 5 5 5 5 5 5 5 5 5 5 5 5 5 5 5 5 5 5 5 5 5 5 5 5 5 5 5 5 5 5 5 5 5 5 5\n",
            " 5 5 5 5 5 5 5 5 5 5 5 5 5 5 5 5 5 5 5 5 5 5 5 5 5 5 5 5 5 5 5 5 5 5 5 5 5\n",
            " 5 5 5 5 5 5 5 5 5 5], shape=(84,), dtype=int64)\n"
          ]
        }
      ]
    },
    {
      "cell_type": "markdown",
      "source": [
        "# Slicing"
      ],
      "metadata": {
        "id": "fg-Jk3DIcePd"
      }
    },
    {
      "cell_type": "code",
      "source": [
        "arr = np.arange(1,21).reshape(4, 5)\n",
        "tensor = tf.Variable(arr, tf.int16)\n",
        "print(tensor, tensor.shape, sep = '\\n\\n')"
      ],
      "metadata": {
        "colab": {
          "base_uri": "https://localhost:8080/"
        },
        "id": "-foNEPZRcQFf",
        "outputId": "8d042465-33c0-45ba-88d0-3aa22eab5899"
      },
      "execution_count": 24,
      "outputs": [
        {
          "output_type": "stream",
          "name": "stdout",
          "text": [
            "<tf.Variable 'Variable:0' shape=(4, 5) dtype=int64, numpy=\n",
            "array([[ 1,  2,  3,  4,  5],\n",
            "       [ 6,  7,  8,  9, 10],\n",
            "       [11, 12, 13, 14, 15],\n",
            "       [16, 17, 18, 19, 20]])>\n",
            "\n",
            "(4, 5)\n"
          ]
        }
      ]
    },
    {
      "cell_type": "code",
      "source": [
        "print(tensor[2, :])"
      ],
      "metadata": {
        "colab": {
          "base_uri": "https://localhost:8080/"
        },
        "id": "jFz4vTZQdAM4",
        "outputId": "2dee23a5-e21e-4cc8-a630-3aa4146e19cc"
      },
      "execution_count": 26,
      "outputs": [
        {
          "output_type": "stream",
          "name": "stdout",
          "text": [
            "tf.Tensor([11 12 13 14 15], shape=(5,), dtype=int64)\n"
          ]
        }
      ]
    },
    {
      "cell_type": "code",
      "source": [
        "print(tensor[1:3, 3:])"
      ],
      "metadata": {
        "colab": {
          "base_uri": "https://localhost:8080/"
        },
        "id": "cFQ0uL_hdXAW",
        "outputId": "ebe3f5c7-b7e1-4b79-dcf7-43828ca9835f"
      },
      "execution_count": 27,
      "outputs": [
        {
          "output_type": "stream",
          "name": "stdout",
          "text": [
            "tf.Tensor(\n",
            "[[ 9 10]\n",
            " [14 15]], shape=(2, 2), dtype=int64)\n"
          ]
        }
      ]
    },
    {
      "cell_type": "code",
      "source": [],
      "metadata": {
        "id": "e8pNM7o0dgfQ"
      },
      "execution_count": null,
      "outputs": []
    }
  ]
}